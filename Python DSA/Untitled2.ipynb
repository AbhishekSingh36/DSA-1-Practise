{
 "cells": [
  {
   "cell_type": "code",
   "execution_count": 1,
   "id": "2958807b-e3d6-4bbd-b897-8ac0c3399652",
   "metadata": {},
   "outputs": [
    {
     "name": "stdout",
     "output_type": "stream",
     "text": [
      "['kangroo', 'cat', 'racoon', 'kangroo']\n",
      "['kangroo', 'cat', 'racoon', 'kangroo']\n"
     ]
    }
   ],
   "source": [
    "# swap_list = [\"doggie\", \"cat\", \"racoon\", \"kangroo\"]\n",
    "\n",
    "# list = swap_list\n",
    "# list[0] = swap_list[-1]\n",
    "# list[-1] = swap_list[0]\n",
    "\n",
    "# print(list)\n",
    "# print(swap_list)"
   ]
  },
  {
   "cell_type": "code",
   "execution_count": 3,
   "id": "1460022f-d7ee-4dc6-aea0-18d158264614",
   "metadata": {},
   "outputs": [
    {
     "name": "stdout",
     "output_type": "stream",
     "text": [
      "['kangroo', 'cat', 'racoon', 'doggie']\n",
      "['kangroo', 'cat', 'racoon', 'doggie']\n",
      "['kangroo', 'cat', 'racoon', 'doggie']\n"
     ]
    }
   ],
   "source": [
    "swap_list = [\"doggie\", \"cat\", \"racoon\", \"kangroo\"]\n",
    "\n",
    "initial_element = swap_list[0]\n",
    "last_element = swap_list[-1]\n",
    "\n",
    "list = swap_list\n",
    "\n",
    "list[0] = last_element\n",
    "list[-1] = initial_element\n",
    "\n",
    "print(swap_list)\n",
    "print(list)"
   ]
  },
  {
   "cell_type": "code",
   "execution_count": null,
   "id": "d1c7c660-042f-4fb8-afd2-93559fed0bbf",
   "metadata": {},
   "outputs": [],
   "source": []
  }
 ],
 "metadata": {
  "kernelspec": {
   "display_name": "Python 3 (ipykernel)",
   "language": "python",
   "name": "python3"
  },
  "language_info": {
   "codemirror_mode": {
    "name": "ipython",
    "version": 3
   },
   "file_extension": ".py",
   "mimetype": "text/x-python",
   "name": "python",
   "nbconvert_exporter": "python",
   "pygments_lexer": "ipython3",
   "version": "3.12.0"
  }
 },
 "nbformat": 4,
 "nbformat_minor": 5
}
