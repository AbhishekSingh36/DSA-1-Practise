{
 "cells": [
  {
   "cell_type": "code",
   "execution_count": 6,
   "id": "dfd1e669-31af-42cf-9d50-69d894d92704",
   "metadata": {},
   "outputs": [
    {
     "name": "stdout",
     "output_type": "stream",
     "text": [
      "43\n"
     ]
    }
   ],
   "source": [
    "random_list = [1.23,43,232,1,True]\n",
    "print(random_list[1])"
   ]
  },
  {
   "cell_type": "code",
   "execution_count": null,
   "id": "58051b0a-060e-4442-94e5-f8c7b2045a77",
   "metadata": {},
   "outputs": [],
   "source": []
  },
  {
   "cell_type": "code",
   "execution_count": 15,
   "id": "3ffc1658-f107-439d-a8c7-a0e4903243ef",
   "metadata": {},
   "outputs": [
    {
     "ename": "SyntaxError",
     "evalue": "'return' outside function (1718591323.py, line 11)",
     "output_type": "error",
     "traceback": [
      "\u001b[1;36m  Cell \u001b[1;32mIn[15], line 11\u001b[1;36m\u001b[0m\n\u001b[1;33m    return odd_count,even_count\u001b[0m\n\u001b[1;37m    ^\u001b[0m\n\u001b[1;31mSyntaxError\u001b[0m\u001b[1;31m:\u001b[0m 'return' outside function\n"
     ]
    }
   ],
   "source": [
    "numbers = [17, 8, 42, 5, 19, 64, 33, 22, 7, 12]\n",
    "\n",
    "even_count = 0\n",
    "odd_count = 0\n",
    "\n",
    "for oddeven in numbers:\n",
    "    if oddeven % 2 == 0:\n",
    "        even_count += 1\n",
    "    else:\n",
    "        odd_count +=1\n",
    "return odd_count,even_count\n",
    "\n",
    "print(even_count,odd_count)"
   ]
  },
  {
   "cell_type": "code",
   "execution_count": 14,
   "id": "7f93384c-be24-494c-8f83-98bb7dd204d0",
   "metadata": {},
   "outputs": [
    {
     "name": "stdout",
     "output_type": "stream",
     "text": [
      "5 5\n"
     ]
    }
   ],
   "source": [
    "numbers = [17, 8, 42, 5, 19, 64, 33, 22, 7, 12]\n",
    "\n",
    "even_count = 0\n",
    "odd_count = 0\n",
    "\n",
    "for oddeven in numbers:\n",
    "    if oddeven % 2 == 0:\n",
    "        even_count += 1\n",
    "    else:\n",
    "        odd_count +=1\n",
    "\n",
    "print(even_count,odd_count)"
   ]
  },
  {
   "cell_type": "code",
   "execution_count": 16,
   "id": "8866e090-a54f-4612-8435-20657300c416",
   "metadata": {},
   "outputs": [
    {
     "name": "stdout",
     "output_type": "stream",
     "text": [
      "7 3\n"
     ]
    }
   ],
   "source": [
    "numbers = [17, -8, 42, 5, 19, 64, -33, -22, 7, 12]\n",
    "\n",
    "pos_count = 0\n",
    "neg_count = 0\n",
    "\n",
    "for count in numbers:\n",
    "    if count>0:\n",
    "        pos_count += 1\n",
    "    else:\n",
    "        neg_count +=1\n",
    "print(pos_count,neg_count)"
   ]
  },
  {
   "cell_type": "code",
   "execution_count": null,
   "id": "7054bc49-7ddf-494d-9e1a-48ac369d7e12",
   "metadata": {},
   "outputs": [],
   "source": []
  }
 ],
 "metadata": {
  "kernelspec": {
   "display_name": "Python 3 (ipykernel)",
   "language": "python",
   "name": "python3"
  },
  "language_info": {
   "codemirror_mode": {
    "name": "ipython",
    "version": 3
   },
   "file_extension": ".py",
   "mimetype": "text/x-python",
   "name": "python",
   "nbconvert_exporter": "python",
   "pygments_lexer": "ipython3",
   "version": "3.12.0"
  }
 },
 "nbformat": 4,
 "nbformat_minor": 5
}
