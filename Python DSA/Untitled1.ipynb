{
 "cells": [
  {
   "cell_type": "code",
   "execution_count": 1,
   "id": "0e2dd2e4-4906-497d-ac6a-cddafc320c44",
   "metadata": {},
   "outputs": [
    {
     "name": "stdout",
     "output_type": "stream",
     "text": [
      "5 5\n"
     ]
    }
   ],
   "source": [
    "numbers_list = [17, 8, 42, 5, 19, 64, 33, 22, 7, 12]\n",
    "\n",
    "even_count = 0\n",
    "\n",
    "for element in numbers_list:\n",
    "    if element % 2 == 0:\n",
    "        even_count += 1\n",
    "\n",
    "print(even_count,len(numbers_list) - even_count)"
   ]
  },
  {
   "cell_type": "code",
   "execution_count": null,
   "id": "8f712d8c-d1f8-4193-a7c2-a0d55cf773a4",
   "metadata": {},
   "outputs": [],
   "source": [
    "numberss = [17, -8, 42, 5, 19, 64, -33, -22, 7, 12]\n",
    "\n",
    "pos_count = 0\n",
    "neg_count = 0\n",
    "\n",
    "for count in numberss:\n",
    "    if count>0:\n",
    "        pos_count += 1\n",
    "    else:\n",
    "        neg_count +=1\n",
    "print(pos_count,neg_count)"
   ]
  }
 ],
 "metadata": {
  "kernelspec": {
   "display_name": "Python 3 (ipykernel)",
   "language": "python",
   "name": "python3"
  },
  "language_info": {
   "codemirror_mode": {
    "name": "ipython",
    "version": 3
   },
   "file_extension": ".py",
   "mimetype": "text/x-python",
   "name": "python",
   "nbconvert_exporter": "python",
   "pygments_lexer": "ipython3",
   "version": "3.12.0"
  }
 },
 "nbformat": 4,
 "nbformat_minor": 5
}
